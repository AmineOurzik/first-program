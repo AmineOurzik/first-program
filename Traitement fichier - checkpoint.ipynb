{
 "cells": [
  {
   "cell_type": "code",
   "execution_count": 12,
   "id": "f089e0e0",
   "metadata": {},
   "outputs": [],
   "source": [
    "with open(\"test.txt\",\"w\", encoding = \"utf-8\") as f:\n",
    "    f.write(\"mon premier fichier\\n\")\n",
    "    f.write(\"Ce fichier\\n\")\n",
    "    f.write(\"contient trois lignes\\n\")\n",
    "    f.write(\"Il faudrait que la réponse soit(14)\")\n",
    "    f.close()"
   ]
  },
  {
   "cell_type": "code",
   "execution_count": 47,
   "id": "55c4e533",
   "metadata": {},
   "outputs": [],
   "source": [
    "f = open(\"test.txt\", \"r\", encoding = \"utf-8\")"
   ]
  },
  {
   "cell_type": "code",
   "execution_count": 56,
   "id": "044ef436",
   "metadata": {},
   "outputs": [
    {
     "name": "stdout",
     "output_type": "stream",
     "text": [
      "Ecrivez le nombre de lignes voulu:1\n"
     ]
    },
    {
     "data": {
      "text/plain": [
       "['mon premier fichier\\n']"
      ]
     },
     "execution_count": 56,
     "metadata": {},
     "output_type": "execute_result"
    }
   ],
   "source": [
    "n = int(input(\"Ecrivez le nombre de lignes voulu:\"))\n",
    "f = open(\"test.txt\", \"r\", encoding = \"utf-8\")\n",
    "f.readlines()[0:n]"
   ]
  },
  {
   "cell_type": "code",
   "execution_count": 57,
   "id": "1017db3c",
   "metadata": {},
   "outputs": [
    {
     "data": {
      "text/plain": [
       "['Il faudrait que la réponse soit(14)']"
      ]
     },
     "execution_count": 57,
     "metadata": {},
     "output_type": "execute_result"
    }
   ],
   "source": [
    "f = open(\"test.txt\", \"r\", encoding = \"utf-8\")\n",
    "f.readlines()[-n:]"
   ]
  },
  {
   "cell_type": "code",
   "execution_count": 82,
   "id": "6e66cf82",
   "metadata": {},
   "outputs": [
    {
     "name": "stdout",
     "output_type": "stream",
     "text": [
      "Ce fichier a 14 mots.\n"
     ]
    }
   ],
   "source": [
    "f = open(\"test.txt\", \"r\", encoding = \"utf-8\")\n",
    "texte = f.read()\n",
    "texte = texte.split()\n",
    "print(\"Ce fichier a\",len(texte), \"mots.\")"
   ]
  },
  {
   "cell_type": "code",
   "execution_count": null,
   "id": "dafbe29e",
   "metadata": {},
   "outputs": [],
   "source": []
  }
 ],
 "metadata": {
  "kernelspec": {
   "display_name": "Python 3 (ipykernel)",
   "language": "python",
   "name": "python3"
  },
  "language_info": {
   "codemirror_mode": {
    "name": "ipython",
    "version": 3
   },
   "file_extension": ".py",
   "mimetype": "text/x-python",
   "name": "python",
   "nbconvert_exporter": "python",
   "pygments_lexer": "ipython3",
   "version": "3.11.5"
  }
 },
 "nbformat": 4,
 "nbformat_minor": 5
}
