{
 "cells": [
  {
   "cell_type": "code",
   "execution_count": 14,
   "id": "8171a833",
   "metadata": {},
   "outputs": [],
   "source": [
    "import random\n",
    "prnint(Bienvenue au jeu de l'estimation, un jeu où vous devez trouver un nombre entier entre 1 et 100)\n",
    "print(\"Quel mode de jeu voulez-vous choisir, 1.un nombre de tentative distinct(1) ou 2.jusqu'à ce que vous trouvez le nombre(2)\")\n",
    "j = int(input(\"Entrez 1 ou 2 pour votre mode de jeu\"))\n",
    "if j == 1:\n",
    "    x = random.randint(1,100)\n",
    "    t = int(input(\"Veuillez entrer le nombre de tentatives que vous voulez avoir: \"))\n",
    "    for a in range(0,t):\n",
    "        n = int(input(\"Donnez un nombre \"))\n",
    "        if n < x:\n",
    "            print(\"l'estimation doit être plus haute\")\n",
    "        elif n > x:\n",
    "            print(\"l'estimation doit être plus basse\")\n",
    "        elif n==x:\n",
    "            print(\"vous avez donnez le bon nombre, bien jouer !\")\n",
    "            break\n",
    "    if n != x and a == t-1:\n",
    "                print(\"Dommage, vous n'avez pas réussi à temps\")\n",
    "elif j == 2:\n",
    "    x = random.randint(1,100)\n",
    "    while True:\n",
    "        n = int(input(\"Donnez un nombre \"))\n",
    "        if n < x:\n",
    "            print(\"l'estimation doit être plus haute\")\n",
    "        elif n > x:\n",
    "            print(\"l'estimation doit être plus basse\")\n",
    "        else:\n",
    "            print(\"vous avez donnez le bon nombre, bien jouer !\")\n",
    "            break"
   ]
  }
 ],
 "metadata": {
  "kernelspec": {
   "display_name": "Python 3 (ipykernel)",
   "language": "python",
   "name": "python3"
  },
  "language_info": {
   "codemirror_mode": {
    "name": "ipython",
    "version": 3
   },
   "file_extension": ".py",
   "mimetype": "text/x-python",
   "name": "python",
   "nbconvert_exporter": "python",
   "pygments_lexer": "ipython3",
   "version": "3.11.5"
  }
 },
 "nbformat": 4,
 "nbformat_minor": 5
}
