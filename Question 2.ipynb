{
 "cells": [
  {
   "cell_type": "code",
   "execution_count": 19,
   "id": "e16c4993",
   "metadata": {},
   "outputs": [],
   "source": [
    "def element2(x):\n",
    "    return x[1]"
   ]
  },
  {
   "cell_type": "code",
   "execution_count": 20,
   "id": "57838f48",
   "metadata": {},
   "outputs": [],
   "source": [
    "L = [(4,3),(7,1),(2,8),(9,4)]"
   ]
  },
  {
   "cell_type": "code",
   "execution_count": 21,
   "id": "114be8c4",
   "metadata": {},
   "outputs": [
    {
     "name": "stdout",
     "output_type": "stream",
     "text": [
      "[(7, 1), (4, 3), (9, 4), (2, 8)]\n"
     ]
    }
   ],
   "source": [
    "L = sorted(L, key=element2)\n",
    "print(L)"
   ]
  }
 ],
 "metadata": {
  "kernelspec": {
   "display_name": "Python 3 (ipykernel)",
   "language": "python",
   "name": "python3"
  },
  "language_info": {
   "codemirror_mode": {
    "name": "ipython",
    "version": 3
   },
   "file_extension": ".py",
   "mimetype": "text/x-python",
   "name": "python",
   "nbconvert_exporter": "python",
   "pygments_lexer": "ipython3",
   "version": "3.11.5"
  }
 },
 "nbformat": 4,
 "nbformat_minor": 5
}
