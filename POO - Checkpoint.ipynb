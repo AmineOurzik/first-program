{
 "cells": [
  {
   "cell_type": "code",
   "execution_count": 3,
   "id": "98817c9a",
   "metadata": {},
   "outputs": [],
   "source": [
    "# Exercice 1\n",
    "class Point3D:\n",
    "    def __init__(self, x, y, z):\n",
    "        self.position = (x , y , z)"
   ]
  },
  {
   "cell_type": "code",
   "execution_count": 4,
   "id": "7f641438",
   "metadata": {},
   "outputs": [
    {
     "data": {
      "text/plain": [
       "(1, 2, 3)"
      ]
     },
     "execution_count": 4,
     "metadata": {},
     "output_type": "execute_result"
    }
   ],
   "source": [
    "my_point = Point3D(1, 2, 3)\n",
    "my_point.position"
   ]
  },
  {
   "cell_type": "code",
   "execution_count": 61,
   "id": "97d63967",
   "metadata": {},
   "outputs": [],
   "source": [
    "# Exercice 2\n",
    "class Rectangle:\n",
    "    def __init__(self, longueur, largeur):\n",
    "        self.longueur = longueur\n",
    "        self.largeur = largeur\n",
    "    def aire(self):\n",
    "        return self.longueur*self.largeur\n",
    "    def perimetre(self):\n",
    "        return 2*(self.longueur + self.largeur)"
   ]
  },
  {
   "cell_type": "code",
   "execution_count": 72,
   "id": "07fa1393",
   "metadata": {},
   "outputs": [
    {
     "name": "stdout",
     "output_type": "stream",
     "text": [
      "12\n",
      "14\n"
     ]
    }
   ],
   "source": [
    "my_rectangle = Rectangle(3,4)\n",
    "print(my_rectangle.aire())\n",
    "print(my_rectangle.perimetre())"
   ]
  },
  {
   "cell_type": "code",
   "execution_count": 123,
   "id": "5933ecea",
   "metadata": {},
   "outputs": [],
   "source": [
    "# Exercice 3\n",
    "from math import pi, sqrt\n",
    "\n",
    "class Cercle:\n",
    "    def __init__(self, x , y, r):\n",
    "        self.centre_x = x\n",
    "        self.centre_y = y\n",
    "        self.rayon = r\n",
    "    def aire(self):\n",
    "        return self.rayon**2*pi\n",
    "    def perimetre(self):\n",
    "        return 2*pi*self.rayon\n",
    "    def isInside(self, x, y):\n",
    "        self.pointx = x\n",
    "        self.pointy = y\n",
    "        if sqrt((self.centre_x-self.pointx)**2+(self.centre_y-self.pointy)**2) < self.rayon:\n",
    "            print(\"Le point est à l'intérieur\")\n",
    "        else:\n",
    "            print(\"Le point est à l'extérieur\")"
   ]
  },
  {
   "cell_type": "code",
   "execution_count": 127,
   "id": "83d3f07b",
   "metadata": {},
   "outputs": [
    {
     "name": "stdout",
     "output_type": "stream",
     "text": [
      "3.141592653589793\n",
      "6.283185307179586\n",
      "Le point est à l'extérieur\n",
      "None\n"
     ]
    }
   ],
   "source": [
    "C = Cercle(0,0, 1)\n",
    "print(C.aire())\n",
    "print(C.perimetre())\n",
    "print(C.isInside(1,0))"
   ]
  },
  {
   "cell_type": "code",
   "execution_count": 108,
   "id": "527f392a",
   "metadata": {},
   "outputs": [
    {
     "data": {
      "text/plain": [
       "3.141592653589793"
      ]
     },
     "execution_count": 108,
     "metadata": {},
     "output_type": "execute_result"
    }
   ],
   "source": [
    "C.aire()"
   ]
  },
  {
   "cell_type": "code",
   "execution_count": 109,
   "id": "8e21520e",
   "metadata": {},
   "outputs": [
    {
     "data": {
      "text/plain": [
       "6.283185307179586"
      ]
     },
     "execution_count": 109,
     "metadata": {},
     "output_type": "execute_result"
    }
   ],
   "source": [
    "C.perimetre()"
   ]
  },
  {
   "cell_type": "code",
   "execution_count": 110,
   "id": "381e6755",
   "metadata": {},
   "outputs": [
    {
     "name": "stdout",
     "output_type": "stream",
     "text": [
      "Le point est à l'extérieur\n"
     ]
    }
   ],
   "source": [
    "C.isInside(8,9)"
   ]
  },
  {
   "cell_type": "code",
   "execution_count": 7,
   "id": "81b5583a",
   "metadata": {},
   "outputs": [],
   "source": [
    "# Exercice 4\n",
    "class Banque:\n",
    "    def __init__(self, solde):\n",
    "        self.s = solde\n",
    "    def depot(self, deposit):\n",
    "        self.d = deposit\n",
    "        self.s += self.d\n",
    "        return \"your total balance is{}\".format(self.s)\n",
    "    def retrait(self, withdrawal):\n",
    "        self.w = withdrawal\n",
    "        self.s -= self.w\n",
    "        return \"your total balance is{}\".format(self.s)"
   ]
  },
  {
   "cell_type": "code",
   "execution_count": 8,
   "id": "ca14e24d",
   "metadata": {},
   "outputs": [],
   "source": [
    "B = Banque(4000)"
   ]
  },
  {
   "cell_type": "code",
   "execution_count": 15,
   "id": "5970c61e",
   "metadata": {},
   "outputs": [
    {
     "data": {
      "text/plain": [
       "'your total balance is 4250'"
      ]
     },
     "execution_count": 15,
     "metadata": {},
     "output_type": "execute_result"
    }
   ],
   "source": [
    "B.depot(250)"
   ]
  },
  {
   "cell_type": "code",
   "execution_count": 16,
   "id": "2139feab",
   "metadata": {},
   "outputs": [
    {
     "data": {
      "text/plain": [
       "'your total balance is 3750'"
      ]
     },
     "execution_count": 16,
     "metadata": {},
     "output_type": "execute_result"
    }
   ],
   "source": [
    "B.retrait(500)"
   ]
  },
  {
   "cell_type": "code",
   "execution_count": null,
   "id": "b50a71cc",
   "metadata": {},
   "outputs": [],
   "source": []
  }
 ],
 "metadata": {
  "kernelspec": {
   "display_name": "Python 3 (ipykernel)",
   "language": "python",
   "name": "python3"
  },
  "language_info": {
   "codemirror_mode": {
    "name": "ipython",
    "version": 3
   },
   "file_extension": ".py",
   "mimetype": "text/x-python",
   "name": "python",
   "nbconvert_exporter": "python",
   "pygments_lexer": "ipython3",
   "version": "3.11.5"
  }
 },
 "nbformat": 4,
 "nbformat_minor": 5
}
