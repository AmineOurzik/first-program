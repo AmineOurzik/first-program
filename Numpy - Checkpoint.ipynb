{
 "cells": [
  {
   "cell_type": "code",
   "execution_count": 2,
   "id": "a7621c39",
   "metadata": {},
   "outputs": [],
   "source": [
    "import numpy as np"
   ]
  },
  {
   "cell_type": "code",
   "execution_count": 6,
   "id": "199a86a3",
   "metadata": {},
   "outputs": [
    {
     "name": "stdout",
     "output_type": "stream",
     "text": [
      "Veuillez saisir le nombre d'élèves4\n",
      "Veuillez saisir le nombre de matières3\n"
     ]
    }
   ],
   "source": [
    "nombre_eleves = int(input(\"Veuillez saisir le nombre d'élèves\"))\n",
    "nomes_matieres =int(input(\"Veuillez saisir le nombre de matières\"))"
   ]
  },
  {
   "cell_type": "code",
   "execution_count": null,
   "id": "920e2bf0",
   "metadata": {},
   "outputs": [],
   "source": [
    "for i in nombre_eleves:\n",
    "    "
   ]
  },
  {
   "cell_type": "code",
   "execution_count": null,
   "id": "086d2f04",
   "metadata": {},
   "outputs": [],
   "source": [
    "for p in poucentage:\n",
    "    "
   ]
  }
 ],
 "metadata": {
  "kernelspec": {
   "display_name": "Python 3 (ipykernel)",
   "language": "python",
   "name": "python3"
  },
  "language_info": {
   "codemirror_mode": {
    "name": "ipython",
    "version": 3
   },
   "file_extension": ".py",
   "mimetype": "text/x-python",
   "name": "python",
   "nbconvert_exporter": "python",
   "pygments_lexer": "ipython3",
   "version": "3.11.5"
  }
 },
 "nbformat": 4,
 "nbformat_minor": 5
}
