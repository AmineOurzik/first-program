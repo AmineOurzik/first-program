{
 "cells": [
  {
   "cell_type": "code",
   "execution_count": 8,
   "id": "f7c23cf2",
   "metadata": {},
   "outputs": [
    {
     "name": "stdout",
     "output_type": "stream",
     "text": [
      "False\n",
      "True\n"
     ]
    }
   ],
   "source": [
    "def recherche_binaire(l,c):\n",
    "    return recherche_binaire_r(l,c,0,len(l)-1)\n",
    "def recherche_binaire_r(l,c,g,d):\n",
    "    if g > d: return False\n",
    "    \n",
    "    mil = (g +d)//2\n",
    "    \n",
    "    if l[mil] == c:\n",
    "        return True\n",
    "    elif l[mil] > c:\n",
    "        return recherche_binaire_r(l,c,g,mil - 1)\n",
    "    else:\n",
    "        return recherche_binaire_r(l,c,mil+1,d)\n",
    "    \n",
    "print(recherche_binaire([1,2,3,5,8], 6))\n",
    "print(recherche_binaire([1,2,3,5,8], 5))"
   ]
  },
  {
   "cell_type": "code",
   "execution_count": 9,
   "id": "7a001ca5",
   "metadata": {},
   "outputs": [
    {
     "data": {
      "text/plain": [
       "81"
      ]
     },
     "execution_count": 9,
     "metadata": {},
     "output_type": "execute_result"
    }
   ],
   "source": [
    "def power(a,b):\n",
    "    return a**b\n",
    "power(3,4)"
   ]
  },
  {
   "cell_type": "code",
   "execution_count": 10,
   "id": "e0268c4a",
   "metadata": {},
   "outputs": [
    {
     "data": {
      "text/plain": [
       "[13, 22, 29, 37, 46, 49, 52, 56, 71]"
      ]
     },
     "execution_count": 10,
     "metadata": {},
     "output_type": "execute_result"
    }
   ],
   "source": [
    "def bubbleSort(nlist):\n",
    "    for passnum in range(len(nlist)-1,0,-1):\n",
    "        for i in range(passnum):\n",
    "            if nlist[i]>nlist[i+1]:\n",
    "                temp = nlist[i]\n",
    "                nlist[i] = nlist[i+1]\n",
    "                nlist[i+1] = temp\n",
    "    return nlist\n",
    "bubbleSort([29,13,22,37,52,49,46,71,56])"
   ]
  },
  {
   "cell_type": "code",
   "execution_count": 20,
   "id": "725a9779",
   "metadata": {},
   "outputs": [
    {
     "name": "stdout",
     "output_type": "stream",
     "text": [
      "[13, 22, 29, 37, 46, 49, 52, 56, 71]\n"
     ]
    }
   ],
   "source": [
    "def mergeSort(myList):\n",
    "    if len(myList) > 1:\n",
    "        mid = len(myList) // 2\n",
    "        left = myList[:mid]\n",
    "        right = myList[mid:]\n",
    "\n",
    "        # Recursive call on each half\n",
    "        mergeSort(left)\n",
    "        mergeSort(right)\n",
    "\n",
    "        # Two iterators for traversing the two halves\n",
    "        i = 0\n",
    "        j = 0\n",
    "        \n",
    "        # Iterator for the main list\n",
    "        k = 0\n",
    "        \n",
    "        while i < len(left) and j < len(right):\n",
    "            if left[i] < right[j]:\n",
    "              # The value from the left half has been used\n",
    "              myList[k] = left[i]\n",
    "              # Move the iterator forward\n",
    "              i += 1\n",
    "            else:\n",
    "                myList[k] = right[j]\n",
    "                j += 1\n",
    "            # Move to the next slot\n",
    "            k += 1\n",
    "\n",
    "        # For all the remaining values\n",
    "        while i < len(left):\n",
    "            myList[k] = left[i]\n",
    "            i += 1\n",
    "            k += 1\n",
    "\n",
    "        while j < len(right):\n",
    "            myList[k]=right[j]\n",
    "            j += 1\n",
    "            k += 1\n",
    "        return myList\n",
    "\n",
    "liste = mergeSort([29,13,22,37,52,49,46,71,56])\n",
    "print(liste)"
   ]
  },
  {
   "cell_type": "code",
   "execution_count": 25,
   "id": "adadd4af",
   "metadata": {},
   "outputs": [
    {
     "data": {
      "text/plain": [
       "[13, 22, 29, 37, 46, 49, 52, 56, 71]"
      ]
     },
     "execution_count": 25,
     "metadata": {},
     "output_type": "execute_result"
    }
   ],
   "source": [
    "def partition(tableau, debut, fin):\n",
    "    pivot = tableau[debut]\n",
    "    bas = debut + 1\n",
    "    haut = fin\n",
    "    while True:\n",
    "        while bas <= haut and tableau[haut] >= pivot:\n",
    "            haut = haut - 1\n",
    "\n",
    "        while bas <= haut and tableau[bas] <= pivot:\n",
    "            bas = bas + 1\n",
    "\n",
    "        if bas <= haut:\n",
    "            tableau[bas], tableau[haut] = tableau[haut], tableau[bas]\n",
    "        else:\n",
    "            break\n",
    "\n",
    "    tableau[debut], tableau[haut] = tableau[haut], tableau[debut]\n",
    "\n",
    "    return haut\n",
    "def tri_rapide(tableau, debut, fin):\n",
    "    if debut >= fin:\n",
    "        return\n",
    "\n",
    "    p = partition(tableau, debut, fin)\n",
    "    tri_rapide(tableau, debut, p-1)\n",
    "    tri_rapide(tableau, p+1, fin)\n",
    "    \n",
    "liste = [29,13,22,37,52,49,46,71,56]\n",
    "tri_rapide(liste,0, len(liste)-1)\n",
    "liste"
   ]
  },
  {
   "cell_type": "code",
   "execution_count": null,
   "id": "c890df6f",
   "metadata": {},
   "outputs": [],
   "source": []
  }
 ],
 "metadata": {
  "kernelspec": {
   "display_name": "Python 3 (ipykernel)",
   "language": "python",
   "name": "python3"
  },
  "language_info": {
   "codemirror_mode": {
    "name": "ipython",
    "version": 3
   },
   "file_extension": ".py",
   "mimetype": "text/x-python",
   "name": "python",
   "nbconvert_exporter": "python",
   "pygments_lexer": "ipython3",
   "version": "3.11.5"
  }
 },
 "nbformat": 4,
 "nbformat_minor": 5
}
