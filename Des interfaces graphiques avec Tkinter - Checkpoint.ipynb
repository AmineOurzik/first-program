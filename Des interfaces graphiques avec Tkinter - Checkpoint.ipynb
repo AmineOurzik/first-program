{
 "cells": [
  {
   "cell_type": "code",
   "execution_count": 19,
   "id": "dbe7d1d5",
   "metadata": {},
   "outputs": [],
   "source": [
    "import tkinter as tk\n",
    "def fahrenheit_to_celsius():\n",
    "    event = ent_temperature.get()\n",
    "    event = (int(event)-32)*(5/9)\n",
    "    lbl_result.config(text = event)\n",
    "    \n",
    "window = tk.Tk()\n",
    "window.title(\"Convertisseur de Température\")\n",
    "window.resizable(width =False,height=False)\n",
    "frm_entry = tk.Frame(master=window)\n",
    "ent_temperature = tk.Entry(master=frm_entry,width=10)\n",
    "lbl_temp = tk.Label(master=frm_entry,text=\"\\n{DEGREEFAHRENHEIT}\")\n",
    "ent_temperature.grid(row=0,column=0,sticky=\"e\")\n",
    "lbl_temp.grid(row=0,column=1,sticky=\"w\")\n",
    "btn_convert = tk.Button(master = window, text =\"\\n{RIGHTWARDS BLACK ARROW}\", command = fahrenheit_to_celsius)\n",
    "lbl_result = tk.Label(master=window, text = \"\\n{DEGREE CELSIUS}\")\n",
    "frm_entry.grid(row=0, column=0, padx=10,)\n",
    "btn_convert.grid(row=0,column=1,pady=10)\n",
    "lbl_result.grid(row=0,column=2,padx=10)\n",
    "window.mainloop()"
   ]
  },
  {
   "cell_type": "code",
   "execution_count": null,
   "id": "3edd656f",
   "metadata": {},
   "outputs": [],
   "source": []
  }
 ],
 "metadata": {
  "kernelspec": {
   "display_name": "Python 3 (ipykernel)",
   "language": "python",
   "name": "python3"
  },
  "language_info": {
   "codemirror_mode": {
    "name": "ipython",
    "version": 3
   },
   "file_extension": ".py",
   "mimetype": "text/x-python",
   "name": "python",
   "nbconvert_exporter": "python",
   "pygments_lexer": "ipython3",
   "version": "3.11.5"
  }
 },
 "nbformat": 4,
 "nbformat_minor": 5
}
