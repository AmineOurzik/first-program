{
 "cells": [
  {
   "cell_type": "code",
   "execution_count": 14,
   "id": "e821df6e",
   "metadata": {},
   "outputs": [],
   "source": [
    "def calculatrice(num1,num2):\n",
    "    operation= input(\"Entrez l'opération que vous voulez éffectuer : '+'(addition); '-'(soustraction); '*'(multiplication); '/'(division)\")\n",
    "    if operation == \"+\":\n",
    "        resultat = num1 + num2\n",
    "        return resultat\n",
    "    if operation == \"-\":\n",
    "        resultat = num1 - num2\n",
    "        return resultat\n",
    "    if operation == \"*\":\n",
    "        resultat = num1 * num2\n",
    "        return resultat\n",
    "    if operation == \"/\":\n",
    "        if num2 == 0:\n",
    "            print(\"Vous ne pouvezpas diviser par 0 !!!\")\n",
    "        else:\n",
    "            resultat = num1 / num2\n",
    "            return resultat\n",
    "    else:\n",
    "        print(\"entrez un signe valable: + - * / !\")"
   ]
  },
  {
   "cell_type": "code",
   "execution_count": 18,
   "id": "45ecf31b",
   "metadata": {},
   "outputs": [
    {
     "name": "stdout",
     "output_type": "stream",
     "text": [
      "Entrez l'opération que vous voulez éffectuer : '+'(addition); '-'(soustraction); '*'(multiplication); '/'(division)*\n"
     ]
    },
    {
     "data": {
      "text/plain": [
       "6856537372365"
      ]
     },
     "execution_count": 18,
     "metadata": {},
     "output_type": "execute_result"
    }
   ],
   "source": [
    "calculatrice(734947,9329295)"
   ]
  },
  {
   "cell_type": "code",
   "execution_count": null,
   "id": "e47046a3",
   "metadata": {},
   "outputs": [],
   "source": []
  },
  {
   "cell_type": "code",
   "execution_count": null,
   "id": "43e69c54",
   "metadata": {},
   "outputs": [],
   "source": []
  }
 ],
 "metadata": {
  "kernelspec": {
   "display_name": "Python 3 (ipykernel)",
   "language": "python",
   "name": "python3"
  },
  "language_info": {
   "codemirror_mode": {
    "name": "ipython",
    "version": 3
   },
   "file_extension": ".py",
   "mimetype": "text/x-python",
   "name": "python",
   "nbconvert_exporter": "python",
   "pygments_lexer": "ipython3",
   "version": "3.11.5"
  }
 },
 "nbformat": 4,
 "nbformat_minor": 5
}
