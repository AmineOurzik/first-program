{
 "cells": [
  {
   "cell_type": "code",
   "execution_count": 4,
   "id": "9901108f",
   "metadata": {},
   "outputs": [],
   "source": [
    "D1 = {\"a\":250,\"b\":700,\"c\":50}\n",
    "D2 = {\"a\":150,\"b\":600,\"c\":200}"
   ]
  },
  {
   "cell_type": "code",
   "execution_count": 18,
   "id": "06324745",
   "metadata": {},
   "outputs": [],
   "source": [
    "for keys in D1:\n",
    "    if keys in D2:\n",
    "        D1[keys] = D1[keys] + D2[keys]"
   ]
  },
  {
   "cell_type": "code",
   "execution_count": 19,
   "id": "235e8d13",
   "metadata": {},
   "outputs": [
    {
     "name": "stdout",
     "output_type": "stream",
     "text": [
      "{'a': 400, 'b': 1300, 'c': 250}\n"
     ]
    }
   ],
   "source": [
    "print(D1)"
   ]
  },
  {
   "cell_type": "code",
   "execution_count": null,
   "id": "6ec14766",
   "metadata": {},
   "outputs": [],
   "source": []
  }
 ],
 "metadata": {
  "kernelspec": {
   "display_name": "Python 3 (ipykernel)",
   "language": "python",
   "name": "python3"
  },
  "language_info": {
   "codemirror_mode": {
    "name": "ipython",
    "version": 3
   },
   "file_extension": ".py",
   "mimetype": "text/x-python",
   "name": "python",
   "nbconvert_exporter": "python",
   "pygments_lexer": "ipython3",
   "version": "3.11.5"
  }
 },
 "nbformat": 4,
 "nbformat_minor": 5
}
